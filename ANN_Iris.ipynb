{
  "nbformat": 4,
  "nbformat_minor": 0,
  "metadata": {
    "colab": {
      "provenance": [],
      "authorship_tag": "ABX9TyONKVuP0Na6p0UwKtd8FVOv",
      "include_colab_link": true
    },
    "kernelspec": {
      "name": "python3",
      "display_name": "Python 3"
    },
    "language_info": {
      "name": "python"
    }
  },
  "cells": [
    {
      "cell_type": "markdown",
      "metadata": {
        "id": "view-in-github",
        "colab_type": "text"
      },
      "source": [
        "<a href=\"https://colab.research.google.com/github/adibamini92/Machine-Learning/blob/master/ANN_Iris.ipynb\" target=\"_parent\"><img src=\"https://colab.research.google.com/assets/colab-badge.svg\" alt=\"Open In Colab\"/></a>"
      ]
    },
    {
      "cell_type": "code",
      "source": [
        "from sklearn.datasets import load_iris #The Library for Iris Dataset\n",
        "#loading the Iris dataset\n",
        "iris = load_iris()"
      ],
      "metadata": {
        "id": "8pD0OPIxvuXc"
      },
      "execution_count": 49,
      "outputs": []
    },
    {
      "cell_type": "code",
      "source": [
        "import numpy as np #Algebra, Arrays, Multidimensional Data\n",
        "import pandas as pd #Library for for data manipulation and analysis\n",
        "#Dividing the features and the target and merge it to one united dataset, and also relabeling them\n",
        "Data = pd.DataFrame(data = np.c_[iris['data'], iris['target']], columns= iris['feature_names'] + ['target'])"
      ],
      "metadata": {
        "id": "GVSEuURtwQAa"
      },
      "execution_count": 50,
      "outputs": []
    },
    {
      "cell_type": "code",
      "source": [
        "#Split the dataset to features and target\n",
        "Data.loc[Data[\"target\"]==\"Iris-setosa\",\"target\"]=0 \n",
        "Data.loc[Data[\"target\"]==\"Iris-versicolor\",\"target\"]=1\n",
        "Data.loc[Data[\"target\"]==\"Iris-virginica\",\"target\"]=2\n",
        "Data=Data.iloc[np.random.permutation(len(Data))]\n",
        "X=Data.iloc[:,1:5].values\n",
        "y=Data.iloc[:,4].values\n",
        "print(X.shape)\n",
        "print(y.shape)"
      ],
      "metadata": {
        "colab": {
          "base_uri": "https://localhost:8080/"
        },
        "id": "dISYXfPm6ls5",
        "outputId": "0d9e6d0e-d2a8-488b-cac0-cdd75c50b6c9"
      },
      "execution_count": 51,
      "outputs": [
        {
          "output_type": "stream",
          "name": "stdout",
          "text": [
            "(150, 4)\n",
            "(150,)\n"
          ]
        }
      ]
    },
    {
      "cell_type": "code",
      "source": [
        "from sklearn.preprocessing import normalize #ML algorithm\n",
        "#Normalizing the data set for better fit of the dataset to ML algorithm\n",
        "X_normalized=normalize(X,axis=0)\n",
        "#Split the data to test and train, with 80% for train and the remaining 20% for testing the dataset\n",
        "from sklearn.model_selection import train_test_split\n",
        "X_train, X_test, y_train, y_test = train_test_split(X, y, test_size=0.20, random_state=42)\n",
        "X_train=X_normalized[:train_length]\n",
        "X_test=X_normalized[train_length:]\n",
        "y_train=y[:train_length]\n",
        "y_test=y[train_length:]\n",
        "\n",
        "print(X_train.shape[0])\n",
        "print(y_train.shape[0])\n",
        "print(X_test.shape[0])\n",
        "print(y_test.shape[0])"
      ],
      "metadata": {
        "colab": {
          "base_uri": "https://localhost:8080/"
        },
        "id": "UkiUaCat7NjS",
        "outputId": "95057640-e299-4a5c-ad12-851412cf149f"
      },
      "execution_count": 52,
      "outputs": [
        {
          "output_type": "stream",
          "name": "stdout",
          "text": [
            "120\n",
            "120\n",
            "30\n",
            "30\n"
          ]
        }
      ]
    },
    {
      "cell_type": "code",
      "source": [
        "#Libraries utilized in ANN\n",
        "import keras #A library that provides a Python interface for artificial neural networks\n",
        "from keras.models import Sequential \n",
        "from keras.layers import Dense,Activation,Dropout \n",
        "from tensorflow.keras.layers import (BatchNormalization, SeparableConv2D, MaxPooling2D, Activation, Flatten, Dropout, Dense)\n",
        "from keras.utils import np_utils\n",
        "#Categorizing the features and target\n",
        "y_train=np_utils.to_categorical(y_train,num_classes=3)\n",
        "y_test=np_utils.to_categorical(y_test,num_classes=3)\n",
        "print(y_train.shape)\n",
        "print(y_test.shape)\n",
        "\n",
        "#ANN model\n",
        "model=Sequential()\n",
        "model.add(Dense(1000,input_dim=4,activation='relu')) #First Layer of ANN\n",
        "model.add(Dense(500,activation='relu')) #Second Layer of ANN\n",
        "model.add(Dense(300,activation='relu')) #Third Layer of ANN\n",
        "model.add(Dropout(0.2))\n",
        "model.add(Dense(3,activation='softmax'))\n",
        "model.compile(loss='categorical_crossentropy',optimizer='adam',metrics=['accuracy'])\n",
        "history = model.fit(X_train,y_train,validation_data=(X_test,y_test),batch_size=20,epochs=10,verbose=1)"
      ],
      "metadata": {
        "colab": {
          "base_uri": "https://localhost:8080/"
        },
        "id": "HI_Z9Nzd8x0c",
        "outputId": "f7ee2606-cd84-4b4e-8b60-ef6475d83cd6"
      },
      "execution_count": 53,
      "outputs": [
        {
          "output_type": "stream",
          "name": "stdout",
          "text": [
            "(120, 3)\n",
            "(30, 3)\n",
            "Epoch 1/10\n",
            "6/6 [==============================] - 2s 58ms/step - loss: 1.0777 - accuracy: 0.4417 - val_loss: 1.0338 - val_accuracy: 0.6333\n",
            "Epoch 2/10\n",
            "6/6 [==============================] - 0s 24ms/step - loss: 0.9765 - accuracy: 0.6750 - val_loss: 0.8950 - val_accuracy: 0.6333\n",
            "Epoch 3/10\n",
            "6/6 [==============================] - 0s 27ms/step - loss: 0.7938 - accuracy: 0.6750 - val_loss: 0.6773 - val_accuracy: 0.6333\n",
            "Epoch 4/10\n",
            "6/6 [==============================] - 0s 23ms/step - loss: 0.5597 - accuracy: 0.7833 - val_loss: 0.4343 - val_accuracy: 0.9000\n",
            "Epoch 5/10\n",
            "6/6 [==============================] - 0s 23ms/step - loss: 0.3227 - accuracy: 0.9583 - val_loss: 0.2364 - val_accuracy: 1.0000\n",
            "Epoch 6/10\n",
            "6/6 [==============================] - 0s 23ms/step - loss: 0.1667 - accuracy: 1.0000 - val_loss: 0.1048 - val_accuracy: 1.0000\n",
            "Epoch 7/10\n",
            "6/6 [==============================] - 0s 24ms/step - loss: 0.0777 - accuracy: 1.0000 - val_loss: 0.0388 - val_accuracy: 1.0000\n",
            "Epoch 8/10\n",
            "6/6 [==============================] - 0s 22ms/step - loss: 0.0328 - accuracy: 1.0000 - val_loss: 0.0167 - val_accuracy: 1.0000\n",
            "Epoch 9/10\n",
            "6/6 [==============================] - 0s 26ms/step - loss: 0.0119 - accuracy: 1.0000 - val_loss: 0.0088 - val_accuracy: 1.0000\n",
            "Epoch 10/10\n",
            "6/6 [==============================] - 0s 25ms/step - loss: 0.0065 - accuracy: 1.0000 - val_loss: 0.0051 - val_accuracy: 1.0000\n"
          ]
        }
      ]
    },
    {
      "cell_type": "code",
      "source": [
        "import matplotlib.pyplot as plt #Visualisation \n",
        "plt.plot(history.history['loss'], label='train')\n",
        "plt.plot(history.history['val_loss'], label='validation')\n",
        "plt.legend()"
      ],
      "metadata": {
        "colab": {
          "base_uri": "https://localhost:8080/",
          "height": 282
        },
        "id": "SaDy7_1c9i5J",
        "outputId": "5c4530fc-ee7b-422f-fe54-caccea1e02e3"
      },
      "execution_count": 62,
      "outputs": [
        {
          "output_type": "execute_result",
          "data": {
            "text/plain": [
              "<matplotlib.legend.Legend at 0x7f47b1faa5b0>"
            ]
          },
          "metadata": {},
          "execution_count": 62
        },
        {
          "output_type": "display_data",
          "data": {
            "text/plain": [
              "<Figure size 432x288 with 1 Axes>"
            ],
            "image/png": "[encoded data removed]"
          },
          "metadata": {
            "needs_background": "light"
          }
        }
      ]
    },
    {
      "cell_type": "code",
      "source": [
        "prediction=model.predict(X_test)\n",
        "length=len(prediction)\n",
        "y_label=np.argmax(y_test,axis=1)\n",
        "predict_label=np.argmax(prediction,axis=1)\n",
        "\n",
        "accuracy=np.sum(y_label==predict_label)/length * 100 \n",
        "print('The accuracy percentage of the model equals =', accuracy)"
      ],
      "metadata": {
        "colab": {
          "base_uri": "https://localhost:8080/"
        },
        "id": "7kVt_Vcv9uYZ",
        "outputId": "5c4cc653-797d-4aaf-f673-24125fa57877"
      },
      "execution_count": 59,
      "outputs": [
        {
          "output_type": "stream",
          "name": "stdout",
          "text": [
            "1/1 [==============================] - 0s 27ms/step\n",
            "The accuracy percentage of the model equals = 100.0\n"
          ]
        }
      ]
    }
  ]
}